{
 "cells": [
  {
   "cell_type": "markdown",
   "id": "328568a5",
   "metadata": {},
   "source": [
    "<div class=\"alert alert-block alert-info\">\n",
    "<b>Note:</b> Before trying to scrap any website you should inspect that webpage whether the content that you want is present the HTML tags or not.</div>"
   ]
  },
  {
   "cell_type": "markdown",
   "id": "8f2ce273",
   "metadata": {},
   "source": [
    "## Step 1: Importing the Required Libraries"
   ]
  },
  {
   "cell_type": "code",
   "execution_count": 1,
   "id": "c15c1987",
   "metadata": {},
   "outputs": [
    {
     "name": "stdout",
     "output_type": "stream",
     "text": [
      "Import Successful\n"
     ]
    }
   ],
   "source": [
    "import pandas as pd\n",
    "import requests\n",
    "from bs4 import BeautifulSoup\n",
    "import numpy as np\n",
    "print(\"Import Successful\")"
   ]
  },
  {
   "cell_type": "markdown",
   "id": "c6524a78",
   "metadata": {},
   "source": [
    "## Step 2: Specifying the URL"
   ]
  },
  {
   "cell_type": "code",
   "execution_count": 2,
   "id": "1856264e",
   "metadata": {},
   "outputs": [
    {
     "data": {
      "text/plain": [
       "'https://www.flipkart.com/audio-video/speakers/pr?sid=0pm%2C0o7&q=speaker&otracker=categorytree&sort=relevance&page=1'"
      ]
     },
     "execution_count": 2,
     "metadata": {},
     "output_type": "execute_result"
    }
   ],
   "source": [
    "url=\"https://www.flipkart.com/audio-video/speakers/pr?sid=0pm%2C0o7&q=speaker&otracker=categorytree&sort=relevance&page=1\"\n",
    "url\n",
    "#Speakers on flipkart"
   ]
  },
  {
   "cell_type": "markdown",
   "id": "6b64cf3f",
   "metadata": {},
   "source": [
    "We also have edited the website by trimming the last part of the url which was for the page no. 1 "
   ]
  },
  {
   "cell_type": "markdown",
   "id": "d43a0e1f",
   "metadata": {},
   "source": [
    "## Step 3: Sending a Request and Checking the Response"
   ]
  },
  {
   "cell_type": "markdown",
   "id": "c45a528b",
   "metadata": {},
   "source": [
    "&nbsp;&nbsp;&nbsp;&nbsp;&nbsp; The **`requests.get(url)`** function sends a GET request to the specified URL using the HTTP protocol. The server responds with an HTTP response object, which contains information about the response, such as the status code, headers, and content."
   ]
  },
  {
   "cell_type": "code",
   "execution_count": 3,
   "id": "a9ba4a68",
   "metadata": {},
   "outputs": [
    {
     "name": "stdout",
     "output_type": "stream",
     "text": [
      "<Response [200]>\n"
     ]
    }
   ],
   "source": [
    "r=requests.get(url)\n",
    "print(r)"
   ]
  },
  {
   "cell_type": "markdown",
   "id": "68c8cb58",
   "metadata": {},
   "source": [
    "<div class=\"alert alert-block alert-success\">\n",
    "<b>Success:</b> Here, Response 200 shows that we are good to go. \n",
    "</div>"
   ]
  },
  {
   "cell_type": "markdown",
   "id": "f1fd5b59",
   "metadata": {},
   "source": [
    "&nbsp;&nbsp;&nbsp;&nbsp;&nbsp;A response status code of **503** indicates that the server is currently unable to handle the request due to a temporary overload or maintenance of the server. **404**,**400** are some errors faced while scraping. So it is better to check the response status of the website first before proceeding further."
   ]
  },
  {
   "cell_type": "markdown",
   "id": "9761a809",
   "metadata": {},
   "source": [
    "## Step 4: Parsing the Response Content"
   ]
  },
  {
   "cell_type": "code",
   "execution_count": 4,
   "id": "21c39279",
   "metadata": {},
   "outputs": [],
   "source": [
    "soup=BeautifulSoup(r.text,\"lxml\")\n",
    "# print(soup.prettify())"
   ]
  },
  {
   "cell_type": "markdown",
   "id": "63a4bd78",
   "metadata": {},
   "source": [
    "## Step 5: Extracting the Desired Data"
   ]
  },
  {
   "cell_type": "code",
   "execution_count": 8,
   "id": "e1e6d3fc-7444-488f-9b21-94be8d973974",
   "metadata": {},
   "outputs": [],
   "source": [
    "# Create a dictionary to store lists with keys and values\n",
    "data_dict = {}"
   ]
  },
  {
   "cell_type": "code",
   "execution_count": 5,
   "id": "5a0ac076-8bc4-473e-957e-650adcdd5d18",
   "metadata": {},
   "outputs": [],
   "source": [
    "def extract_table_data(table_element):\n",
    "    data = {}\n",
    "    rows = table_element.find_all('tr', class_='_1s_Smc')\n",
    "    for row in rows:\n",
    "        columns = row.find_all(['td', 'th'])\n",
    "        if len(columns) == 2:\n",
    "            key = columns[0].text.strip()\n",
    "            value = columns[1].text.strip()\n",
    "            data[key] = value\n",
    "    return data"
   ]
  },
  {
   "cell_type": "code",
   "execution_count": 6,
   "id": "f3c2f38f-e78d-493a-810e-5706dc286ca2",
   "metadata": {},
   "outputs": [],
   "source": [
    "def looping_on_page():\n",
    "    for link in links:   \n",
    "        url=link\n",
    "        r=requests.get(url)\n",
    "        soup=BeautifulSoup(r.text,\"lxml\")\n",
    "        \n",
    "        # Find all tables with class '_14cfVK'\n",
    "        tables = soup.find_all('table', class_='_14cfVK')\n",
    "        \n",
    "        # Extract and store data from each table in the dictionary\n",
    "        for table in tables:\n",
    "            table_data = extract_table_data(table)\n",
    "            for key, value in table_data.items():\n",
    "                if key not in data_dict:\n",
    "                    data_dict[key] = []\n",
    "                data_dict[key].append(value)"
   ]
  },
  {
   "cell_type": "code",
   "execution_count": 7,
   "id": "bca5e517-00b3-48ac-96e4-e3f37c180cf1",
   "metadata": {},
   "outputs": [],
   "source": [
    "def speaker_scrape():\n",
    "    looping_on_page()\n",
    "    # Find the maximum length among all lists\n",
    "    max_length = max(len(lst) for lst in data_dict.values())\n",
    "    \n",
    "    # Fill shorter lists with None to make them of equal length\n",
    "    for key in data_dict:\n",
    "        data_dict[key] += [None] * (max_length - len(data_dict[key]))\n",
    "    \n",
    "    # Convert the dictionary to a DataFrame\n",
    "    df = pd.DataFrame(data_dict)\n",
    "    \n",
    "    return df"
   ]
  },
  {
   "cell_type": "markdown",
   "id": "09d83ce6",
   "metadata": {},
   "source": [
    "## Step 6: Scraping Multiple Pages (Optional)"
   ]
  },
  {
   "cell_type": "code",
   "execution_count": 9,
   "id": "5ed6e342",
   "metadata": {},
   "outputs": [
    {
     "name": "stdout",
     "output_type": "stream",
     "text": [
      "Progress:  100.00% Page No.:506\r"
     ]
    }
   ],
   "source": [
    "total_pages=506\n",
    "for page in range(total_pages):\n",
    "    progress = (page + 1) / total_pages * 100\n",
    "    print(f\"Progress: {progress: .2f}%\",f\"Page No.:{page+1}\",end=\"\\r\")\n",
    "    url=\"https://www.flipkart.com/audio-video/speakers/pr?sid=0pm%2C0o7&q=speaker&otracker=categorytree&sort=relevance&page={}\".format(page)\n",
    "    request=requests.get(url).text\n",
    "    soup=BeautifulSoup(request,\"lxml\")\n",
    "    links = [f\"https://www.flipkart.com{a['href']}\" for a in soup.find_all('a', class_='_2rpwqI')]\n",
    "    df1 = speaker_scrape()"
   ]
  },
  {
   "cell_type": "code",
   "execution_count": 19,
   "id": "0d9c7ba5-5afb-4ccf-a2ba-557adb9539c0",
   "metadata": {},
   "outputs": [
    {
     "data": {
      "text/html": [
       "<div>\n",
       "<style scoped>\n",
       "    .dataframe tbody tr th:only-of-type {\n",
       "        vertical-align: middle;\n",
       "    }\n",
       "\n",
       "    .dataframe tbody tr th {\n",
       "        vertical-align: top;\n",
       "    }\n",
       "\n",
       "    .dataframe thead th {\n",
       "        text-align: right;\n",
       "    }\n",
       "</style>\n",
       "<table border=\"1\" class=\"dataframe\">\n",
       "  <thead>\n",
       "    <tr style=\"text-align: right;\">\n",
       "      <th></th>\n",
       "      <th>Sales Package</th>\n",
       "      <th>Model Number</th>\n",
       "      <th>Model Name</th>\n",
       "      <th>Type</th>\n",
       "      <th>Portable</th>\n",
       "      <th>Bluetooth</th>\n",
       "      <th>Memory Card Slot</th>\n",
       "      <th>Configuration</th>\n",
       "      <th>Power Source</th>\n",
       "      <th>Frequency Response</th>\n",
       "      <th>...</th>\n",
       "      <th>Subwoofer Depth</th>\n",
       "      <th>Tweeter Diameter</th>\n",
       "      <th>International Warranty</th>\n",
       "      <th>Satellite Width</th>\n",
       "      <th>Satellite Height</th>\n",
       "      <th>Satellite Depth</th>\n",
       "      <th>Center Satellite Width</th>\n",
       "      <th>Center Satellite Height</th>\n",
       "      <th>Center Satellite Depth</th>\n",
       "      <th>Center Satellite Weight</th>\n",
       "    </tr>\n",
       "  </thead>\n",
       "  <tbody>\n",
       "    <tr>\n",
       "      <th>0</th>\n",
       "      <td>1 x 2.0 USB Speaker</td>\n",
       "      <td>Mini 2.0 USB Multimedia Speakers</td>\n",
       "      <td>Mini</td>\n",
       "      <td>Laptop/Desktop Speaker</td>\n",
       "      <td>Yes</td>\n",
       "      <td>No</td>\n",
       "      <td>No</td>\n",
       "      <td>2.0</td>\n",
       "      <td>USB</td>\n",
       "      <td>60Hz-20Khz</td>\n",
       "      <td>...</td>\n",
       "      <td>313 mm</td>\n",
       "      <td>16 mm</td>\n",
       "      <td>1 Year</td>\n",
       "      <td>105 mm</td>\n",
       "      <td>173 mm</td>\n",
       "      <td>83 mm</td>\n",
       "      <td>87.5 mm</td>\n",
       "      <td>147 mm</td>\n",
       "      <td>87.5 mm</td>\n",
       "      <td>1.2 kg</td>\n",
       "    </tr>\n",
       "    <tr>\n",
       "      <th>1</th>\n",
       "      <td>2 wired speakers with wired volume controller,...</td>\n",
       "      <td>S21</td>\n",
       "      <td>S21</td>\n",
       "      <td>Laptop/Desktop Speaker</td>\n",
       "      <td>Yes</td>\n",
       "      <td>No</td>\n",
       "      <td>No</td>\n",
       "      <td>2.0 Channel</td>\n",
       "      <td>DC 5V via a USB port</td>\n",
       "      <td>100hz-20khz</td>\n",
       "      <td>...</td>\n",
       "      <td>222 mm</td>\n",
       "      <td>65 mm</td>\n",
       "      <td>1 Year</td>\n",
       "      <td>9 mm</td>\n",
       "      <td>17.2 mm</td>\n",
       "      <td>10.2 mm</td>\n",
       "      <td>None</td>\n",
       "      <td>None</td>\n",
       "      <td>None</td>\n",
       "      <td>None</td>\n",
       "    </tr>\n",
       "    <tr>\n",
       "      <th>2</th>\n",
       "      <td>1 N Speaker, 1 N Charging Cable, 1 N AUX Cable</td>\n",
       "      <td>M423SP (PORTABLE HOME TV SOUNDBAR) Dynamic Thu...</td>\n",
       "      <td>Powerpact bass &amp; stereo audio color changIng l...</td>\n",
       "      <td>Soundbar</td>\n",
       "      <td>Yes</td>\n",
       "      <td>Yes</td>\n",
       "      <td>Yes</td>\n",
       "      <td>2.0</td>\n",
       "      <td>Rechargeable, USB</td>\n",
       "      <td>150hz—20khz</td>\n",
       "      <td>...</td>\n",
       "      <td>None</td>\n",
       "      <td>20 mm</td>\n",
       "      <td>None</td>\n",
       "      <td>115 mm</td>\n",
       "      <td>95 mm</td>\n",
       "      <td>320 mm</td>\n",
       "      <td>None</td>\n",
       "      <td>None</td>\n",
       "      <td>None</td>\n",
       "      <td>None</td>\n",
       "    </tr>\n",
       "    <tr>\n",
       "      <th>3</th>\n",
       "      <td>1 x Bluetooth speaker, 1 x USB charging cable</td>\n",
       "      <td>Powerpact bass &amp; stereo audio color changIng l...</td>\n",
       "      <td>Fort S100 with 2 in-built subwoofers, Made in ...</td>\n",
       "      <td>Mobile/Tablet Speaker</td>\n",
       "      <td>Yes</td>\n",
       "      <td>3</td>\n",
       "      <td>Yes</td>\n",
       "      <td>2.0 Channel</td>\n",
       "      <td>Battery(Charge At Least 1 hour Before 1st Use)...</td>\n",
       "      <td>150 Hz- 20 KHz</td>\n",
       "      <td>...</td>\n",
       "      <td>None</td>\n",
       "      <td>None</td>\n",
       "      <td>None</td>\n",
       "      <td>None</td>\n",
       "      <td>None</td>\n",
       "      <td>None</td>\n",
       "      <td>None</td>\n",
       "      <td>None</td>\n",
       "      <td>None</td>\n",
       "      <td>None</td>\n",
       "    </tr>\n",
       "    <tr>\n",
       "      <th>4</th>\n",
       "      <td>Sales Package:�Soundbar, AUX in Cable, User Ma...</td>\n",
       "      <td>Aavante Bar 500 / 503 / 508</td>\n",
       "      <td>Fort S16 Soundbar with 2 full range drivers, M...</td>\n",
       "      <td>Soundbar</td>\n",
       "      <td>None</td>\n",
       "      <td>Yes</td>\n",
       "      <td>No</td>\n",
       "      <td>Stereo</td>\n",
       "      <td>DC Adapter</td>\n",
       "      <td>80 - 20000 Hz</td>\n",
       "      <td>...</td>\n",
       "      <td>None</td>\n",
       "      <td>None</td>\n",
       "      <td>None</td>\n",
       "      <td>None</td>\n",
       "      <td>None</td>\n",
       "      <td>None</td>\n",
       "      <td>None</td>\n",
       "      <td>None</td>\n",
       "      <td>None</td>\n",
       "      <td>None</td>\n",
       "    </tr>\n",
       "  </tbody>\n",
       "</table>\n",
       "<p>5 rows × 73 columns</p>\n",
       "</div>"
      ],
      "text/plain": [
       "                                       Sales Package  \\\n",
       "0                                1 x 2.0 USB Speaker   \n",
       "1  2 wired speakers with wired volume controller,...   \n",
       "2     1 N Speaker, 1 N Charging Cable, 1 N AUX Cable   \n",
       "3      1 x Bluetooth speaker, 1 x USB charging cable   \n",
       "4  Sales Package:�Soundbar, AUX in Cable, User Ma...   \n",
       "\n",
       "                                        Model Number  \\\n",
       "0                   Mini 2.0 USB Multimedia Speakers   \n",
       "1                                                S21   \n",
       "2  M423SP (PORTABLE HOME TV SOUNDBAR) Dynamic Thu...   \n",
       "3  Powerpact bass & stereo audio color changIng l...   \n",
       "4                        Aavante Bar 500 / 503 / 508   \n",
       "\n",
       "                                          Model Name                    Type  \\\n",
       "0                                               Mini  Laptop/Desktop Speaker   \n",
       "1                                                S21  Laptop/Desktop Speaker   \n",
       "2  Powerpact bass & stereo audio color changIng l...                Soundbar   \n",
       "3  Fort S100 with 2 in-built subwoofers, Made in ...   Mobile/Tablet Speaker   \n",
       "4  Fort S16 Soundbar with 2 full range drivers, M...                Soundbar   \n",
       "\n",
       "  Portable Bluetooth Memory Card Slot Configuration  \\\n",
       "0      Yes        No               No           2.0   \n",
       "1      Yes        No               No   2.0 Channel   \n",
       "2      Yes       Yes              Yes           2.0   \n",
       "3      Yes         3              Yes   2.0 Channel   \n",
       "4     None       Yes               No        Stereo   \n",
       "\n",
       "                                        Power Source Frequency Response  ...  \\\n",
       "0                                                USB         60Hz-20Khz  ...   \n",
       "1                               DC 5V via a USB port        100hz-20khz  ...   \n",
       "2                                  Rechargeable, USB        150hz—20khz  ...   \n",
       "3  Battery(Charge At Least 1 hour Before 1st Use)...     150 Hz- 20 KHz  ...   \n",
       "4                                         DC Adapter      80 - 20000 Hz  ...   \n",
       "\n",
       "  Subwoofer Depth Tweeter Diameter International Warranty Satellite Width  \\\n",
       "0          313 mm            16 mm                 1 Year          105 mm   \n",
       "1          222 mm            65 mm                 1 Year            9 mm   \n",
       "2            None            20 mm                   None          115 mm   \n",
       "3            None             None                   None            None   \n",
       "4            None             None                   None            None   \n",
       "\n",
       "  Satellite Height Satellite Depth Center Satellite Width  \\\n",
       "0           173 mm           83 mm                87.5 mm   \n",
       "1          17.2 mm         10.2 mm                   None   \n",
       "2            95 mm          320 mm                   None   \n",
       "3             None            None                   None   \n",
       "4             None            None                   None   \n",
       "\n",
       "  Center Satellite Height Center Satellite Depth Center Satellite Weight  \n",
       "0                  147 mm                87.5 mm                  1.2 kg  \n",
       "1                    None                   None                    None  \n",
       "2                    None                   None                    None  \n",
       "3                    None                   None                    None  \n",
       "4                    None                   None                    None  \n",
       "\n",
       "[5 rows x 73 columns]"
      ]
     },
     "execution_count": 19,
     "metadata": {},
     "output_type": "execute_result"
    }
   ],
   "source": [
    "data_df = pd.DataFrame(data_dict)\n",
    "data_df.head()"
   ]
  },
  {
   "cell_type": "markdown",
   "id": "ac8251f7",
   "metadata": {},
   "source": [
    "## Step 7: Saving the Scraped Data"
   ]
  },
  {
   "cell_type": "code",
   "execution_count": 26,
   "id": "174211e6",
   "metadata": {},
   "outputs": [],
   "source": [
    "data_df.to_csv(\"CSV Files/Speakers.csv\") #Converts pandas dataframe into a csv file"
   ]
  }
 ],
 "metadata": {
  "kernelspec": {
   "display_name": "Python 3 (ipykernel)",
   "language": "python",
   "name": "python3"
  },
  "language_info": {
   "codemirror_mode": {
    "name": "ipython",
    "version": 3
   },
   "file_extension": ".py",
   "mimetype": "text/x-python",
   "name": "python",
   "nbconvert_exporter": "python",
   "pygments_lexer": "ipython3",
   "version": "3.12.2"
  }
 },
 "nbformat": 4,
 "nbformat_minor": 5
}
