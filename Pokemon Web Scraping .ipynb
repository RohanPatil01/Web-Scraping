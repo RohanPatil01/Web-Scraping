{
 "cells": [
  {
   "cell_type": "code",
   "execution_count": 25,
   "id": "c15c1987",
   "metadata": {},
   "outputs": [
    {
     "name": "stdout",
     "output_type": "stream",
     "text": [
      "Import Successful\n"
     ]
    }
   ],
   "source": [
    "import pandas as pd\n",
    "import requests\n",
    "from bs4 import BeautifulSoup\n",
    "import numpy as np\n",
    "print(\"Import Successful\")"
   ]
  },
  {
   "cell_type": "code",
   "execution_count": 26,
   "id": "1856264e",
   "metadata": {},
   "outputs": [],
   "source": [
    "url=\"https://pokemondb.net/pokedex/all\""
   ]
  },
  {
   "cell_type": "code",
   "execution_count": 27,
   "id": "a9ba4a68",
   "metadata": {},
   "outputs": [
    {
     "name": "stdout",
     "output_type": "stream",
     "text": [
      "<Response [200]>\n"
     ]
    }
   ],
   "source": [
    "r=requests.get(url)\n",
    "print(r)"
   ]
  },
  {
   "cell_type": "code",
   "execution_count": 28,
   "id": "21c39279",
   "metadata": {},
   "outputs": [],
   "source": [
    "request=r.text\n",
    "soup=BeautifulSoup(request,\"lxml\")\n",
    "# print(soup.prettify())"
   ]
  },
  {
   "cell_type": "code",
   "execution_count": 29,
   "id": "7738025b",
   "metadata": {},
   "outputs": [],
   "source": [
    "table = soup.find(\"table\", {\"class\": \"data-table sticky-header block-wide\"})\n",
    "heading_row = table.find(\"tr\")  # Assuming the heading row is the first row\n",
    "headings = [th.text for th in heading_row.find_all(\"th\")]  # Change \"th\" to \"td\" if the headings are in <td> tags"
   ]
  },
  {
   "cell_type": "code",
   "execution_count": 30,
   "id": "bc7bb1ff",
   "metadata": {},
   "outputs": [],
   "source": [
    "image_url=[]\n",
    "for image in table.find_all('img'):\n",
    "    image_url.append(image['src'])"
   ]
  },
  {
   "cell_type": "code",
   "execution_count": 31,
   "id": "4d5f764f",
   "metadata": {},
   "outputs": [],
   "source": [
    "for name in headings:\n",
    "    globals()[name] = []"
   ]
  },
  {
   "cell_type": "code",
   "execution_count": 32,
   "id": "c200c90e",
   "metadata": {},
   "outputs": [],
   "source": [
    "data=[]\n",
    "idx=[]\n",
    "spAtk=[]\n",
    "spDef=[]\n",
    "for row in table.find_all(\"tr\"):\n",
    "    full_row = row.find_all(\"td\")\n",
    "    # Process the cell data as needed (e.g., print, store in a list, or write to a file)\n",
    "    for element in full_row:\n",
    "        data.append(element.text)"
   ]
  },
  {
   "cell_type": "code",
   "execution_count": 33,
   "id": "7668d20f",
   "metadata": {},
   "outputs": [],
   "source": [
    "for index,element in enumerate(data):\n",
    "    if index%10==0:\n",
    "        idx.append(element)\n",
    "    elif index%10==1:\n",
    "        Name.append(element)\n",
    "    elif index%10==2:\n",
    "        Type.append(element)\n",
    "    elif index%10==3:\n",
    "        Total.append(element)\n",
    "    elif index%10==4:\n",
    "        HP.append(element)\n",
    "    elif index%10==5:\n",
    "        Attack.append(element)\n",
    "    elif index%10==6:\n",
    "        Defense.append(element)\n",
    "    elif index%10==7:\n",
    "        spAtk.append(element)\n",
    "    elif index%10==8:\n",
    "        spDef.append(element)\n",
    "    elif index%10==9:\n",
    "        Speed.append(element)"
   ]
  },
  {
   "cell_type": "code",
   "execution_count": 34,
   "id": "ca242c84",
   "metadata": {},
   "outputs": [],
   "source": [
    "Type1=[]\n",
    "Type2=[]\n",
    "for i in Type:\n",
    "    types=i.split(sep=\" \")\n",
    "    Type1.append(types[0])\n",
    "    Type2.append(types[1])"
   ]
  },
  {
   "cell_type": "code",
   "execution_count": 35,
   "id": "fb84e81d",
   "metadata": {},
   "outputs": [],
   "source": [
    "pokemon=pd.DataFrame({\"image_url\":image_url,\"Id\":idx,\"Names\":Name,\n",
    "\"Type1\":Type1,\n",
    "\"Type2\":Type2,\n",
    "\"Total\":Total,\n",
    "\"HP\":HP,\n",
    "\"Attack\":Attack,\n",
    "\"Defense\":Defense,\n",
    "\"Sp. Atk\":spAtk,\n",
    "\"Sp. Def\":spDef,\n",
    "\"Speed\":Speed},)"
   ]
  },
  {
   "cell_type": "code",
   "execution_count": 36,
   "id": "5952749b",
   "metadata": {},
   "outputs": [
    {
     "data": {
      "text/plain": [
       "(1194, 12)"
      ]
     },
     "execution_count": 36,
     "metadata": {},
     "output_type": "execute_result"
    }
   ],
   "source": [
    "pokemon.shape"
   ]
  },
  {
   "cell_type": "code",
   "execution_count": 37,
   "id": "174211e6",
   "metadata": {},
   "outputs": [],
   "source": [
    "pokemon.to_csv(\"pokemon.csv\") #Converts pandas dataframe into a csv file"
   ]
  },
  {
   "cell_type": "code",
   "execution_count": 19,
   "id": "2dd870a1",
   "metadata": {},
   "outputs": [],
   "source": [
    "url=\"https://pokemondb.net/pokedex/national\"\n",
    "r=requests.get(url)\n",
    "request=r.text\n",
    "soup=BeautifulSoup(request,\"lxml\")\n",
    "\n",
    "image_url=[]\n",
    "\n",
    "for i in soup.find_all(class_=\"infocard-list infocard-list-pkmn-lg\"):\n",
    "    for image in i.find_all('img'):\n",
    "        image_url.append(image['src'])"
   ]
  },
  {
   "cell_type": "code",
   "execution_count": 24,
   "id": "16eaac27",
   "metadata": {},
   "outputs": [],
   "source": [
    "import os\n",
    "\n",
    "def download_image(url, directory):\n",
    "    os.makedirs(directory, exist_ok=True)\n",
    "    response = requests.get(url)\n",
    "    filename = os.path.join(directory, url.split('/')[-1])\n",
    "    with open(filename, 'wb') as file:\n",
    "        file.write(response.content)\n",
    "\n",
    "\n",
    "save_directory = 'C:/Users/rohan/Jupyter Notebook/Pokemon'\n",
    "\n",
    "for url in image_url:\n",
    "    download_image(url, save_directory)"
   ]
  }
 ],
 "metadata": {
  "kernelspec": {
   "display_name": "Python 3 (ipykernel)",
   "language": "python",
   "name": "python3"
  },
  "language_info": {
   "codemirror_mode": {
    "name": "ipython",
    "version": 3
   },
   "file_extension": ".py",
   "mimetype": "text/x-python",
   "name": "python",
   "nbconvert_exporter": "python",
   "pygments_lexer": "ipython3",
   "version": "3.11.3"
  }
 },
 "nbformat": 4,
 "nbformat_minor": 5
}
