{
 "cells": [
  {
   "cell_type": "markdown",
   "id": "328568a5",
   "metadata": {},
   "source": [
    "<div class=\"alert alert-block alert-info\">\n",
    "<b>Note:</b> Before trying to scrap any website you should inspect that webpage whether the content that you want is present the HTML tags or not.</div>"
   ]
  },
  {
   "cell_type": "markdown",
   "id": "8f2ce273",
   "metadata": {},
   "source": [
    "## Step 1: Importing the Required Libraries"
   ]
  },
  {
   "cell_type": "code",
   "execution_count": 1,
   "id": "c15c1987",
   "metadata": {},
   "outputs": [
    {
     "name": "stdout",
     "output_type": "stream",
     "text": [
      "Import Successful\n"
     ]
    }
   ],
   "source": [
    "import pandas as pd\n",
    "import requests\n",
    "from bs4 import BeautifulSoup\n",
    "import numpy as np\n",
    "print(\"Import Successful\")"
   ]
  },
  {
   "cell_type": "markdown",
   "id": "c6524a78",
   "metadata": {},
   "source": [
    "## Step 2: Specifying the URL"
   ]
  },
  {
   "cell_type": "code",
   "execution_count": 2,
   "id": "1856264e",
   "metadata": {},
   "outputs": [],
   "source": [
    "url=\"https://www.flipkart.com/mobiles/pr?sid=tyy%2C4io&param=7564&ctx=eyJjYXJkQ29udGV4dCI6eyJhdHRyaWJ1dGVzIjp7InRpdGxlIjp7Im11bHRpVmFsdWVkQXR0cmlidXRlIjp7ImtleSI6InRpdGxlIiwiaW5mZXJlbmNlVHlwZSI6IlRJVExFIiwidmFsdWVzIjpbIlNob3AgTm93Il0sInZhbHVlVHlwZSI6Ik1VTFRJX1ZBTFVFRCJ9fX19fQ%3D%3D&otracker=clp_metro_expandable_1_5.metroExpandable.METRO_EXPANDABLE_Shop%2BNow_mobile-phones-store_Q1PDG4YW86MF_wp2&fm=neo%2Fmerchandising&iid=M_dfb47cf2-7d06-4960-9f66-6e1d1a80aa0b_5.Q1PDG4YW86MF&ppt=hp&ppn=homepage&ssid=ssucf73b5s0000001684421536013&page=1\"\n",
    "#Smartphones on flipkart"
   ]
  },
  {
   "cell_type": "markdown",
   "id": "6b64cf3f",
   "metadata": {},
   "source": [
    "We also have edited the website by trimming the last part of the url which was for the page no. 1 "
   ]
  },
  {
   "cell_type": "markdown",
   "id": "d43a0e1f",
   "metadata": {},
   "source": [
    "## Step 3: Sending a Request and Checking the Response"
   ]
  },
  {
   "cell_type": "markdown",
   "id": "c45a528b",
   "metadata": {},
   "source": [
    "&nbsp;&nbsp;&nbsp;&nbsp;&nbsp; The **`requests.get(url)`** function sends a GET request to the specified URL using the HTTP protocol. The server responds with an HTTP response object, which contains information about the response, such as the status code, headers, and content."
   ]
  },
  {
   "cell_type": "code",
   "execution_count": 3,
   "id": "a9ba4a68",
   "metadata": {},
   "outputs": [
    {
     "name": "stdout",
     "output_type": "stream",
     "text": [
      "<Response [200]>\n"
     ]
    }
   ],
   "source": [
    "r=requests.get(url)\n",
    "print(r)"
   ]
  },
  {
   "cell_type": "markdown",
   "id": "68c8cb58",
   "metadata": {},
   "source": [
    "<div class=\"alert alert-block alert-success\">\n",
    "<b>Success:</b> Here, Response 200 shows that we are good to go. \n",
    "</div>"
   ]
  },
  {
   "cell_type": "markdown",
   "id": "f1fd5b59",
   "metadata": {},
   "source": [
    "&nbsp;&nbsp;&nbsp;&nbsp;&nbsp;A response status code of **503** indicates that the server is currently unable to handle the request due to a temporary overload or maintenance of the server. **404**,**400** are some errors faced while scraping. So it is better to check the response status of the website first before proceeding further."
   ]
  },
  {
   "cell_type": "markdown",
   "id": "9761a809",
   "metadata": {},
   "source": [
    "## Step 4: Parsing the Response Content"
   ]
  },
  {
   "cell_type": "code",
   "execution_count": 4,
   "id": "21c39279",
   "metadata": {},
   "outputs": [],
   "source": [
    "request=r.text\n",
    "soup=BeautifulSoup(request,\"lxml\")\n",
    "# print(soup.prettify())"
   ]
  },
  {
   "cell_type": "markdown",
   "id": "63a4bd78",
   "metadata": {},
   "source": [
    "## Step 5: Extracting the Desired Data"
   ]
  },
  {
   "cell_type": "code",
   "execution_count": 5,
   "id": "6722f5c1",
   "metadata": {},
   "outputs": [],
   "source": [
    "Names=[]\n",
    "Price=[]\n",
    "Rating=[]\n",
    "Total_reviews=[]\n",
    "Storage=[]\n",
    "Display=[]\n",
    "Camera=[]\n",
    "Battery=[]\n",
    "Processor=[]\n",
    "Warranty=[]\n",
    "\n",
    "def smartphone_scrap():\n",
    "    for device in soup.find_all(class_=\"_2kHMtA\"):\n",
    "        Names.append(device.find(class_=\"_4rR01T\").text.strip())\n",
    "        try: \n",
    "            Price.append(device.find(class_=\"_30jeq3 _1_WHN1\").text.strip())\n",
    "        except:\n",
    "            Price.append(None)\n",
    "        try:\n",
    "            Rating.append(device.find(class_=\"_3LWZlK\").text.strip())\n",
    "        except:\n",
    "            Rating.append(None)\n",
    "        try:\n",
    "            Total_reviews.append(device.find(class_=\"_2_R_DZ\").text.strip())\n",
    "        except:\n",
    "            Total_reviews.append(None)\n",
    "            \n",
    "        for index,li in enumerate(soup.find_all(\"li\")):\n",
    "            if index==0:\n",
    "                try:\n",
    "                    Storage.append(li.text.strip())\n",
    "                except:\n",
    "                    Storage.append(None)\n",
    "                    \n",
    "            elif index==1:\n",
    "                try:\n",
    "                    Display.append(li.text.strip())\n",
    "                except:\n",
    "                    Display.append(None)\n",
    "            elif index==2:\n",
    "                try:\n",
    "                    Camera.append(li.text.strip())\n",
    "                except:\n",
    "                    Camera.append(None)\n",
    "            elif index==3:\n",
    "                try:\n",
    "                    Battery.append(li.text.strip())\n",
    "                except:\n",
    "                    Battery.append(None)\n",
    "            elif index==4:\n",
    "                try:\n",
    "                    Processor.append(li.text.strip())\n",
    "                except:\n",
    "                    Processor.append(None)\n",
    "            elif index==5:\n",
    "                try:\n",
    "                    Warranty.append(li.text.strip())\n",
    "                except:\n",
    "                    Warranty.append(None)"
   ]
  },
  {
   "cell_type": "markdown",
   "id": "09d83ce6",
   "metadata": {},
   "source": [
    "## Step 6: Scraping Multiple Pages (Optional)"
   ]
  },
  {
   "cell_type": "code",
   "execution_count": 6,
   "id": "5ed6e342",
   "metadata": {},
   "outputs": [
    {
     "name": "stdout",
     "output_type": "stream",
     "text": [
      "Progress: 100.00% Page No.:331\r"
     ]
    }
   ],
   "source": [
    "total_pages=331\n",
    "for page in range(total_pages):\n",
    "    progress = (page + 1) / total_pages * 100\n",
    "    print(f\"Progress: {progress:.2f}%\",f\"Page No.:{page+1}\",end=\"\\r\")\n",
    "    url=\"https://www.flipkart.com/mobiles/pr?sid=tyy%2C4io&param=7564&ctx=eyJjYXJkQ29udGV4dCI6eyJhdHRyaWJ1dGVzIjp7InRpdGxlIjp7Im11bHRpVmFsdWVkQXR0cmlidXRlIjp7ImtleSI6InRpdGxlIiwiaW5mZXJlbmNlVHlwZSI6IlRJVExFIiwidmFsdWVzIjpbIlNob3AgTm93Il0sInZhbHVlVHlwZSI6Ik1VTFRJX1ZBTFVFRCJ9fX19fQ%3D%3D&otracker=clp_metro_expandable_1_5.metroExpandable.METRO_EXPANDABLE_Shop%2BNow_mobile-phones-store_Q1PDG4YW86MF_wp2&fm=neo%2Fmerchandising&iid=M_dfb47cf2-7d06-4960-9f66-6e1d1a80aa0b_5.Q1PDG4YW86MF&ppt=hp&ppn=homepage&ssid=ssucf73b5s0000001684421536013&page={}\".format(page)\n",
    "    request=requests.get(url).text\n",
    "    soup=BeautifulSoup(request,\"lxml\")\n",
    "    smartphone_scrap()"
   ]
  },
  {
   "cell_type": "markdown",
   "id": "0de0befb",
   "metadata": {},
   "source": [
    "In this step we have created a user defined function in which the function takes 2 arguments i.e. **the url of website and the path/location of the folder with the file name*** where you want to store the file."
   ]
  },
  {
   "cell_type": "markdown",
   "id": "ac8251f7",
   "metadata": {},
   "source": [
    "## Step 7: Saving the Scraped Data"
   ]
  },
  {
   "cell_type": "code",
   "execution_count": 7,
   "id": "39cffe86",
   "metadata": {},
   "outputs": [],
   "source": [
    "df=pd.DataFrame({\"Names\":Names,\"Price\":Price,\n",
    "\"Rating\":Rating,\n",
    "\"Total_reviews\":Total_reviews,\n",
    "\"Storage\":Storage,\n",
    "\"Display\":Display,\n",
    "\"Camera\":Camera,\n",
    "\"Battery\":Battery,\n",
    "\"Processor\":Processor,\n",
    "\"Warranty\":Warranty})"
   ]
  },
  {
   "cell_type": "code",
   "execution_count": 8,
   "id": "b0230df0",
   "metadata": {
    "scrolled": true
   },
   "outputs": [
    {
     "data": {
      "text/plain": [
       "(1008, 10)"
      ]
     },
     "execution_count": 8,
     "metadata": {},
     "output_type": "execute_result"
    }
   ],
   "source": [
    "df.shape"
   ]
  },
  {
   "cell_type": "code",
   "execution_count": 9,
   "id": "174211e6",
   "metadata": {},
   "outputs": [],
   "source": [
    "df.to_csv(\"Smartphones.csv\") #Converts pandas dataframe into a csv file"
   ]
  }
 ],
 "metadata": {
  "kernelspec": {
   "display_name": "Python 3 (ipykernel)",
   "language": "python",
   "name": "python3"
  },
  "language_info": {
   "codemirror_mode": {
    "name": "ipython",
    "version": 3
   },
   "file_extension": ".py",
   "mimetype": "text/x-python",
   "name": "python",
   "nbconvert_exporter": "python",
   "pygments_lexer": "ipython3",
   "version": "3.11.3"
  }
 },
 "nbformat": 4,
 "nbformat_minor": 5
}
